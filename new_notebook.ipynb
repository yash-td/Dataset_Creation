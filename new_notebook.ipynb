{
 "cells": [
  {
   "cell_type": "code",
   "execution_count": 1,
   "metadata": {},
   "outputs": [],
   "source": [
    "import pandas as pd\n",
    "import spotipy\n",
    "from spotipy.oauth2 import SpotifyClientCredentials \n",
    "import requests\n",
    "import os\n",
    "import time\n",
    "import numpy as np\n",
    "client_id = \"72c9f2b9d3344c91af50a24f4144228f\"\n",
    "client_secret = \"249943a9bbb74b9a8bf04bb7fd93790d\"\n",
    "client_credentials_manager = SpotifyClientCredentials(client_id=client_id, client_secret=client_secret)\n",
    "sp = spotipy.Spotify(client_credentials_manager=client_credentials_manager) # sp is the instance of the spotipy api\n"
   ]
  },
  {
   "cell_type": "code",
   "execution_count": 2,
   "metadata": {},
   "outputs": [
    {
     "data": {
      "text/plain": [
       "Artist                                                    1 Giant Leap\n",
       "title                                                     Braided Hair\n",
       "original_lyrics      [Intro Speech]\\nYeah? Yo we was talkin earlier...\n",
       "hasLyrics                                                          Yes\n",
       "isOrchestral                                                        No\n",
       "first_genre_tag                                                 No-tag\n",
       "second_genre_tag                                                No-tag\n",
       "cleaned_lyrics       Yeah? Yo we was talkin earlier and I was -I wa...\n",
       "lang_detect_spacy                                                   en\n",
       "Name: 19, dtype: object"
      ]
     },
     "execution_count": 2,
     "metadata": {},
     "output_type": "execute_result"
    }
   ],
   "source": [
    "data = pd.read_csv('/Users/ytkd/Desktop/LY_Artist_lyrics_genre_data_from_big5_mft_users_likes_final.csv')\n",
    "\n",
    "data = data[data['lang_detect_spacy']=='en'] # Selecting the data which has the lang_detect_spacy column as \"en\"\n",
    "dataset_artists = list(data['Artist']) # Creating a list of all the artists from our dataset\n",
    "dataset_titles = list(data['title']) # Creating a list of all the titles from our dataset\n",
    "data.iloc[18]"
   ]
  },
  {
   "cell_type": "code",
   "execution_count": 3,
   "metadata": {},
   "outputs": [
    {
     "data": {
      "text/plain": [
       "'Nsync Bye Bye Bye'"
      ]
     },
     "execution_count": 3,
     "metadata": {},
     "output_type": "execute_result"
    }
   ],
   "source": [
    "'''\n",
    "Creating a list which has both artists and their songs\n",
    "'''\n",
    "            \n",
    "artist_title_dataset = []\n",
    "for i in range(len(data)):\n",
    "    artist_title_dataset.append(str(data['Artist'].iloc[i]) + ' ' + str(data['title'].iloc[i]))\n",
    "artist_title_dataset[0]"
   ]
  },
  {
   "cell_type": "code",
   "execution_count": 4,
   "metadata": {},
   "outputs": [],
   "source": [
    "records_ascii = []\n",
    "records_foreign_char= []\n",
    "\n",
    "def is_ascii(s):\n",
    "  return s.isascii()\n",
    "\n",
    "for item in artist_title_dataset:\n",
    "    if is_ascii(item) is True:\n",
    "        records_ascii.append(item)\n",
    "    else:\n",
    "        records_foreign_char.append(item)"
   ]
  },
  {
   "cell_type": "code",
   "execution_count": 5,
   "metadata": {},
   "outputs": [
    {
     "data": {
      "text/plain": [
       "'Nsync Bye Bye Bye'"
      ]
     },
     "execution_count": 5,
     "metadata": {},
     "output_type": "execute_result"
    }
   ],
   "source": [
    "records_ascii[0]"
   ]
  },
  {
   "cell_type": "code",
   "execution_count": 6,
   "metadata": {},
   "outputs": [
    {
     "name": "stdout",
     "output_type": "stream",
     "text": [
      "The total number of records with only ascii :-  40598\n",
      "Whereas, the total number of records with foreign characters are :-  5640\n"
     ]
    }
   ],
   "source": [
    "print('The total number of records with only ascii :- ',len(records_ascii))\n",
    "print('Whereas, the total number of records with foreign characters are :- ',len(records_foreign_char))"
   ]
  },
  {
   "cell_type": "markdown",
   "metadata": {},
   "source": [
    "<h3>In the below cell I will remove all the non ascii characters from the 5640 records and query the resulting string to spotify's api. Spotify will understand the name of the artist even if there are one or two characters misplaced or missing. Hence we will use this to clean our artist names. We will replace our faulty artist names with the artist anmes that spotify gives when we make a query using the records without the foreign characters."
   ]
  },
  {
   "cell_type": "markdown",
   "metadata": {},
   "source": [
    "The below regular expression will remove all the non ascii characters from our string"
   ]
  },
  {
   "cell_type": "code",
   "execution_count": 7,
   "metadata": {},
   "outputs": [],
   "source": [
    "import re\n",
    "\n",
    "def only_ascii(item):\n",
    "    rex = re.sub(r'[^\\x00-\\x7F]+',' ', item)\n",
    "    return rex"
   ]
  },
  {
   "cell_type": "code",
   "execution_count": 8,
   "metadata": {},
   "outputs": [],
   "source": [
    "artist_ascii = []\n",
    "title_ascii = []\n",
    "for artist in dataset_artists:\n",
    "     artist_ascii.append(only_ascii(str(artist)))\n",
    "\n",
    "for title in dataset_titles:\n",
    "     title_ascii.append(only_ascii(str(title)))\n"
   ]
  },
  {
   "cell_type": "code",
   "execution_count": 9,
   "metadata": {},
   "outputs": [],
   "source": [
    "''' Creating a combined list of artists and titles'''\n",
    "ascii_artist_title = []\n",
    "for item in range(len(artist_ascii)):\n",
    "    ascii_artist_title.append(artist_ascii[item] + ' ' + title_ascii[item])"
   ]
  },
  {
   "cell_type": "code",
   "execution_count": 10,
   "metadata": {},
   "outputs": [],
   "source": [
    "'''\n",
    "In track_preview_available function I am checking that the query returned by spotify's api is not empty and if its not I check if the preview url is available.\n",
    "\n",
    "In is_same_artist function I check whether the artist the we found in our query is the same one from our dataset.\n",
    "'''\n",
    "def is_same_artist(query, data, index):\n",
    "    if data[index] in query['tracks']['items'][0]['artists'][0]['name']:\n",
    "        return True\n",
    "\n",
    "def track_preview_available(query):\n",
    "    if query['tracks']['items']:\n",
    "        if query['tracks']['items'][0]['preview_url']:\n",
    "            return True\n",
    "        return True\n",
    "        \n",
    "def artist_available(query):\n",
    "    if query['tracks']['items']:\n",
    "        return True\n"
   ]
  },
  {
   "cell_type": "markdown",
   "metadata": {},
   "source": [
    "<h3> Correcting artist names"
   ]
  },
  {
   "cell_type": "code",
   "execution_count": 11,
   "metadata": {},
   "outputs": [
    {
     "name": "stdout",
     "output_type": "stream",
     "text": [
      "Total number of tracks 46238\n",
      "Unique artists are:  5461\n"
     ]
    },
    {
     "data": {
      "text/plain": [
       "'Camille'"
      ]
     },
     "execution_count": 11,
     "metadata": {},
     "output_type": "execute_result"
    }
   ],
   "source": [
    "print('Total number of tracks',len(artist_ascii))\n",
    "print('Unique artists are: ',len(set(artist_ascii)))\n",
    "\n",
    "unique_artists_ascii = list(set(artist_ascii))\n",
    "unique_artists_ascii[0]"
   ]
  },
  {
   "cell_type": "markdown",
   "metadata": {},
   "source": [
    "<h4>Querying all the artists and correcting their names using the real name of spotify artists"
   ]
  },
  {
   "cell_type": "code",
   "execution_count": 26,
   "metadata": {},
   "outputs": [
    {
     "name": "stdout",
     "output_type": "stream",
     "text": [
      "5 requests sent\n",
      "Loop #: 5\n",
      "Elapsed Time: 2.012716054916382 seconds\n",
      "10 requests sent\n",
      "Loop #: 10\n",
      "Elapsed Time: 4.973083257675171 seconds\n",
      "15 requests sent\n",
      "Loop #: 15\n",
      "Elapsed Time: 7.352055072784424 seconds\n",
      "20 requests sent\n",
      "Loop #: 20\n",
      "Elapsed Time: 10.437409162521362 seconds\n",
      "25 requests sent\n",
      "Loop #: 25\n",
      "Elapsed Time: 12.844887256622314 seconds\n",
      "30 requests sent\n",
      "Loop #: 30\n",
      "Elapsed Time: 15.809081077575684 seconds\n",
      "35 requests sent\n",
      "Loop #: 35\n",
      "Elapsed Time: 19.356504201889038 seconds\n",
      "40 requests sent\n",
      "Loop #: 40\n",
      "Elapsed Time: 22.42341923713684 seconds\n",
      "45 requests sent\n",
      "Loop #: 45\n",
      "Elapsed Time: 25.185692310333252 seconds\n",
      "50 requests sent\n",
      "Loop #: 50\n",
      "Elapsed Time: 27.225393295288086 seconds\n"
     ]
    }
   ],
   "source": [
    "sleep_min = 1\n",
    "sleep_max = 3\n",
    "request_count = 0\n",
    "start_time = time.time()\n",
    "artist_from_spotify = []\n",
    "artist_names_changed = []\n",
    "artist_not_found = []\n",
    "\n",
    "for index in range(len(artist_ascii[:50])):\n",
    "    artist_name = artist_ascii[index]\n",
    "    song_title = title_ascii[index]\n",
    "    search = f'{ascii_artist_title[index]}'\n",
    "    query = sp.search(search, type = 'track')\n",
    "    \n",
    "    if artist_available(query) and is_same_artist(query,artist_ascii,index):\n",
    "        artist_from_spotify.append(query['tracks']['items'][0]['artists'][0]['name'])\n",
    "        artist_names_changed.append(query['tracks']['items'][0]['artists'][0]['name'])\n",
    "\n",
    "    else:\n",
    "        artist_from_spotify.append(artist_ascii[index])\n",
    "        artist_not_found.append(artist_ascii[index])\n",
    "        \n",
    "    request_count+=1\n",
    "    if request_count % 5 == 0:\n",
    "        print(str(request_count) + \" requests sent\")\n",
    "        time.sleep(np.random.uniform(sleep_min, sleep_max))\n",
    "        print('Loop #: {}'.format(request_count))\n",
    "        print('Elapsed Time: {} seconds'.format(time.time() - start_time))"
   ]
  },
  {
   "cell_type": "code",
   "execution_count": 30,
   "metadata": {},
   "outputs": [
    {
     "data": {
      "text/plain": [
       "['12 Stones', '12 Stones', '12 Stones', '12 Stones']"
      ]
     },
     "execution_count": 30,
     "metadata": {},
     "output_type": "execute_result"
    }
   ],
   "source": [
    "artist_names_changed"
   ]
  },
  {
   "cell_type": "markdown",
   "metadata": {},
   "source": [
    "<h3> Now we have cleaned artist names, and hence we can now use these names and extract the track's preview_urls, track_ids, artist_ids, popularity and other faetures"
   ]
  },
  {
   "cell_type": "code",
   "execution_count": 29,
   "metadata": {},
   "outputs": [
    {
     "name": "stdout",
     "output_type": "stream",
     "text": [
      "We considered 50 sample records and were able to clean 4\n"
     ]
    }
   ],
   "source": [
    "# print(f'Out of {len(artist_ascii[:301])} artists that we considered we cleaned {len(artist_names_changed)} artist names')\n",
    "print(f'We considered {len(artist_from_spotify)} sample records and were able to clean {len(artist_names_changed)}')"
   ]
  },
  {
   "cell_type": "code",
   "execution_count": 71,
   "metadata": {},
   "outputs": [
    {
     "name": "stdout",
     "output_type": "stream",
     "text": [
      "5 artists uris fetched\n",
      "Loop #: 5\n",
      "Elapsed Time: 1.8791790008544922 seconds\n",
      "10 artists uris fetched\n",
      "Loop #: 10\n",
      "Elapsed Time: 5.853464126586914 seconds\n",
      "15 artists uris fetched\n",
      "Loop #: 15\n",
      "Elapsed Time: 9.114161252975464 seconds\n",
      "20 artists uris fetched\n",
      "Loop #: 20\n",
      "Elapsed Time: 11.25255036354065 seconds\n",
      "25 artists uris fetched\n",
      "Loop #: 25\n",
      "Elapsed Time: 13.402014970779419 seconds\n",
      "30 artists uris fetched\n",
      "Loop #: 30\n",
      "Elapsed Time: 16.36712908744812 seconds\n",
      "35 artists uris fetched\n",
      "Loop #: 35\n",
      "Elapsed Time: 18.885977268218994 seconds\n",
      "40 artists uris fetched\n",
      "Loop #: 40\n",
      "Elapsed Time: 22.002456188201904 seconds\n",
      "45 artists uris fetched\n",
      "Loop #: 45\n",
      "Elapsed Time: 25.801711320877075 seconds\n",
      "50 artists uris fetched\n",
      "Loop #: 50\n",
      "Elapsed Time: 27.914245128631592 seconds\n"
     ]
    }
   ],
   "source": [
    "sleep_min = 1\n",
    "sleep_max = 3\n",
    "request_count = 0\n",
    "start_time = time.time()\n",
    "\n",
    "track_data = []\n",
    "\n",
    "for index in range(len(artist_from_spotify)):\n",
    "    artist_name = artist_ascii[index]\n",
    "    song_title = title_ascii[index]\n",
    "    search = f'artist:{artist_name} track:{song_title}'\n",
    "    query = sp.search(search, type='track')\n",
    "\n",
    "\n",
    "    # in the below line of code I am checking that the query returned by spotify's api is not empty and if its not I check if the preview url is available, and\n",
    "    # even further I check a third condition whether the artist the we found in our query is the same from our dataset.\n",
    "\n",
    "\n",
    "    # if query['tracks']['items'] and query['tracks']['items'][0]['preview_url'] and query['tracks']['items'][0]['artists'][0]['name'] in alpha_artists_titles[index]:\n",
    "    if track_preview_available(query) and is_same_artist(query,ascii_artist_title,index):\n",
    "        artist_from_spotify.append(query['tracks']['items'][0]['artists'][0]['name'])\n",
    "\n",
    "    request_count+=1\n",
    "    if request_count % 5 == 0:\n",
    "        print(str(request_count) + \" artists uris fetched\")\n",
    "        time.sleep(np.random.uniform(sleep_min, sleep_max))\n",
    "        print('Loop #: {}'.format(request_count))\n",
    "        print('Elapsed Time: {} seconds'.format(time.time() - start_time))"
   ]
  },
  {
   "cell_type": "code",
   "execution_count": 73,
   "metadata": {},
   "outputs": [
    {
     "data": {
      "text/plain": [
       "29"
      ]
     },
     "execution_count": 73,
     "metadata": {},
     "output_type": "execute_result"
    }
   ],
   "source": []
  },
  {
   "cell_type": "code",
   "execution_count": null,
   "metadata": {},
   "outputs": [],
   "source": []
  }
 ],
 "metadata": {
  "kernelspec": {
   "display_name": "Python 3.10.4 64-bit",
   "language": "python",
   "name": "python3"
  },
  "language_info": {
   "codemirror_mode": {
    "name": "ipython",
    "version": 3
   },
   "file_extension": ".py",
   "mimetype": "text/x-python",
   "name": "python",
   "nbconvert_exporter": "python",
   "pygments_lexer": "ipython3",
   "version": "3.10.4"
  },
  "orig_nbformat": 4,
  "vscode": {
   "interpreter": {
    "hash": "aee8b7b246df8f9039afb4144a1f6fd8d2ca17a180786b69acc140d282b71a49"
   }
  }
 },
 "nbformat": 4,
 "nbformat_minor": 2
}
