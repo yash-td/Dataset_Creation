{
  "nbformat": 4,
  "nbformat_minor": 0,
  "metadata": {
    "colab": {
      "name": "Spotify_API_Features.ipynb",
      "provenance": []
    },
    "kernelspec": {
      "name": "python3",
      "display_name": "Python 3"
    },
    "language_info": {
      "name": "python"
    }
  },
  "cells": [
    {
      "cell_type": "code",
      "execution_count": null,
      "metadata": {
        "colab": {
          "base_uri": "https://localhost:8080/"
        },
        "id": "dNb583-1nenK",
        "outputId": "05615527-32b8-444d-eaeb-3a20db10f09f"
      },
      "outputs": [
        {
          "output_type": "stream",
          "name": "stdout",
          "text": [
            "Looking in indexes: https://pypi.org/simple, https://us-python.pkg.dev/colab-wheels/public/simple/\n",
            "Requirement already satisfied: spotipy in /usr/local/lib/python3.7/dist-packages (2.19.0)\n",
            "Requirement already satisfied: requests>=2.25.0 in /usr/local/lib/python3.7/dist-packages (from spotipy) (2.27.1)\n",
            "Requirement already satisfied: six>=1.15.0 in /usr/local/lib/python3.7/dist-packages (from spotipy) (1.15.0)\n",
            "Requirement already satisfied: urllib3>=1.26.0 in /usr/local/lib/python3.7/dist-packages (from spotipy) (1.26.9)\n",
            "Requirement already satisfied: idna<4,>=2.5 in /usr/local/lib/python3.7/dist-packages (from requests>=2.25.0->spotipy) (2.10)\n",
            "Requirement already satisfied: charset-normalizer~=2.0.0 in /usr/local/lib/python3.7/dist-packages (from requests>=2.25.0->spotipy) (2.0.12)\n",
            "Requirement already satisfied: certifi>=2017.4.17 in /usr/local/lib/python3.7/dist-packages (from requests>=2.25.0->spotipy) (2022.5.18.1)\n"
          ]
        }
      ],
      "source": [
        "!pip install spotipy"
      ]
    },
    {
      "cell_type": "code",
      "source": [
        "import pandas as pd\n",
        "import spotipy\n",
        "from spotipy.oauth2 import SpotifyClientCredentials"
      ],
      "metadata": {
        "id": "xMotJQdDni4Z"
      },
      "execution_count": null,
      "outputs": []
    },
    {
      "cell_type": "code",
      "source": [
        "SPOTIPY_CLIENT_ID= '3be03b1aa6284c118c88fc57d4195465'\n",
        "SPOTIPY_CLIENT_SECRET= '3290e9d2833a4ffdba883020763ac941'"
      ],
      "metadata": {
        "id": "xMIEWmzGnqYn"
      },
      "execution_count": null,
      "outputs": []
    },
    {
      "cell_type": "code",
      "source": [
        "auth_manager = SpotifyClientCredentials(client_id=SPOTIPY_CLIENT_ID, client_secret=SPOTIPY_CLIENT_SECRET)\n",
        "sp = spotipy.Spotify(auth_manager=auth_manager)"
      ],
      "metadata": {
        "id": "LIlqhfn_nsqA"
      },
      "execution_count": null,
      "outputs": []
    },
    {
      "cell_type": "code",
      "source": [
        "sp.me"
      ],
      "metadata": {
        "colab": {
          "base_uri": "https://localhost:8080/"
        },
        "id": "jvvle8fUnuxK",
        "outputId": "ad64bcd8-bc06-415d-aa94-7a176e08f9a3"
      },
      "execution_count": null,
      "outputs": [
        {
          "output_type": "execute_result",
          "data": {
            "text/plain": [
              "<bound method Spotify.me of <spotipy.client.Spotify object at 0x7f8571752ad0>>"
            ]
          },
          "metadata": {},
          "execution_count": 120
        }
      ]
    },
    {
      "cell_type": "markdown",
      "source": [
        "## UK Top 100 track IDs"
      ],
      "metadata": {
        "id": "7i8VTWcoueFp"
      }
    },
    {
      "cell_type": "code",
      "source": [
        "#information for Uk top 100 playlist\n",
        "tracks = sp.playlist_tracks('https://open.spotify.com/playlist/0LHK9Q89wOMF75tkcqFcDt?si=1b1f82c3ce1245d9')\n",
        "tracks"
      ],
      "metadata": {
        "id": "YEJ0k5TerbYl"
      },
      "execution_count": null,
      "outputs": []
    },
    {
      "cell_type": "code",
      "source": [
        "#create list of track ids from playlist\n",
        "track_ids = []\n",
        "for x in tracks['items']:\n",
        "    track_ids.append(x['track']['id'])\n",
        "\n",
        "print(track_ids)"
      ],
      "metadata": {
        "colab": {
          "base_uri": "https://localhost:8080/"
        },
        "id": "8WkGzVeHvDrN",
        "outputId": "d070f1de-0fd0-46eb-a1bc-c5b4e21eaedd"
      },
      "execution_count": null,
      "outputs": [
        {
          "output_type": "stream",
          "name": "stdout",
          "text": [
            "['75FEaRjZTKLhTrFGsfMUXR', '4Dvkj6JhhA12EX05fT7y2e', '1PckUlxKqWQs3RlWXVBLw3', '3jHEdCPk8q4bcf5hHMMFmh', '5003Vk5PBvDLAgXXHA0mAC', '1qEmFfgcLObUfQm0j1W2CK', '1AR483swS2P6cgQiQPXrtT', '0wHFktze2PHC5jDt3B17DC', '0q4PeKmvOFIzrKpbKnmRIL', '4ScXCwU8mQg3ftLK4WVshy', '5LYMamLv12UPbemOaTPyeV', '02CbaEx1ivrV5WWHGTgmJ3', '7u3w4fQhulC1etJbdfmv3Q', '0uj06hhItBmQGReFUmn7FY', '5eoE2zJa8lbmypsESAVKjI', '02MWAaffLxlfxAUY7c5dvx', '5AAVwcD4a2FKQxASMkJGNc', '0O6u0VJ46W86TxN9wgyqDj', '0Dkpb9EUjhAShkCqeIIcEA', '1JxPz1hweBgjMKl3CdOQw1', '531KGXtBroSrOX9LVmiIgc', '3lykOcZcAC6IVjJQbmFpFq', '32vE1nuG8T9c8bhmZdRY6d', '3fRl68PM1gl4sFKZtcCvmG', '33fGdCo2KexLqsSUZ8kAtw', '59nOXPmaKlBfGMDeOVGrIK', '2xH03EwsMxRwuFhBIMwZd1', '40SBS57su9xLiE1WqkXOVr', '1I15kTViE2Hk3M1tEwGEBC', '66ngy9fBYIqcSyW5ui6hD0', '5jDVrFZw8n3YW38r4OHnYP', '2DB4DdfCFMw1iaR6JaR03a', '6LwDq1Ii9vX5OKTjDkLwpr', '0D7krRliFRgEVTf3mjYvKZ', '3pudQCMnsFGwOElTZmuml8', '713SzSgP0DUfuBEW3qIu7a', '3uUuGVFu1V7jTQL60S1r8z', '7M6PvIDpO70D3vikjUYbq4', '7kGAv0OeafaQnDbOQlAZ32', '50nfwKoDiSYg8zOCREWAm5', '6B7w7mTVXLki8stAsoHVnP', '7kjANxR8XN4hCzLaSc2roy', '5CVgUNbQ8VyOm8XkomiQjp', '05m3LtplUh1eapp5uIOMYr', '4vwtVopp3Iq8UUCd1niOwx', '3sa06xVNmLLYIxdNNmVQN8', '42WYFYQgYDEokTbadZ2zxQ', '6F41DI0ioYH01K9hTTi4EF', '003vvx7Niy0yvhvHt4a68B', '7cKDQJh6I4AhnFM925rumQ', '3rmo8F54jFF8OgYsqTxm5d', '4pdH6AYlWNl9yrhsztcOIC', '2ClaqSKaKmoaG5Sagwn4sk', '7fYRg3CEbk6rNCuzNzMT06', '5djiVG21D5s7RnxF3Bd2GA', '6FDqsVdDRDIMelYGUcolZu', '1Gx1JpNPkQHyrdmGI7aF3k', '3nhGk6VnrDHy67pXvMhdPa', '6UmyrIUcVXTTP0zZBkwPlK', '1RF02Cf80mTaeNXG2P2boR', '1zlK9aSLhOhdPboMkvnJie', '5c9u6I8suX8ygM9777YQ3U', '4CUX44NA1CPEzd0ibMLQsL', '5KwQ8ocg1p8Apcx5vVgdmo', '1WCEAGGRD066z2Q89ObXTq', '1vuYXeB5k02QdjwxYw8NSJ', '47DwZbnJJ3Z5hEIK87oyL4', '5rF6YUIlgiat22OT1lWspJ', '25iiZWrlj8XLtigLwnPELl', '4hJhHbkhZFnxmWbAkZRoe0', '2et7zs27spl8Y41XajZBLz', '3melbW9uwSDAuwMyMW4dSm', '6A3SB2C4U6JtCavQOXLYNN', '70OKcZTx5wxZnuBVPrqbSs', '46TIKHr0tVnP01O985oj0q', '7zalqT2rsaytO4n02cgja4', '6JIC3hbC28JZKZ8AlAqX8h', '2K66MRHPfh7NDUnkq3mFX6', '2lE5rwDnIQtik6FkGGzKh8', '6QoumBbhoBZaP626RwK9Ea', '6WlqlQu7hnZNHCZmY12mgo', '41uMg95Ckby05QjIVFlfPJ', '6EJeTnjNbIHQHZUqeJJVq2', '7I5dgBJC27mgvfMzwNX2o6', '7l9IqDtVWJurTvkQHq1BGh', '1lTH45aSG8dv4Gih2BwMmi', '4w8ggQvZtM7PPFXCyzF3jY', '5PjdY0CKGZdEuoNab3yDmX', '10Gtgm3tSV49DJQGVVpDUI', '25KgYfcVj6xzHLNDzUVv8p', '0nvvFkNZpm1UD3fYgSEt0S', '1R0a2iXumgCiFb7HEZ7gUE', '6xMEC55WaiytU23wQ0iSad', '1BkY0N8ChFk2mdLbAUu8ZK', '5nNr6MEGjlq9W3KChS5mEG', '2nY45mMiduiwl88NxWj3xF', '5PF6tRnQJWyAlZTCgDa4wQ', '06LPhxTcRbh2vJb8vMUkwE', '6gI9b2VsoWhjhIuIeToDVs', '5lYAexg45DfNm7LfJNYMva']\n"
          ]
        }
      ]
    },
    {
      "cell_type": "markdown",
      "source": [
        "## Audio Features"
      ],
      "metadata": {
        "id": "mZZ9LqPSsOCg"
      }
    },
    {
      "cell_type": "code",
      "source": [
        "#get features for tracks in playlist\n",
        "track_features = sp.audio_features(track_ids) #maximum 100 tracks\n",
        "track_features[:5]"
      ],
      "metadata": {
        "id": "3_FaBmRDn1kn"
      },
      "execution_count": null,
      "outputs": []
    },
    {
      "cell_type": "code",
      "source": [
        "df = pd.DataFrame(track_features, columns = ['id', 'acousticness', 'danceability', 'energy', 'instrumentalness', 'key', 'liveness', 'loudness', 'tempo', 'mode', 'speechiness', 'valence'])\n",
        "df"
      ],
      "metadata": {
        "colab": {
          "base_uri": "https://localhost:8080/",
          "height": 424
        },
        "id": "_u0vn8krxuBp",
        "outputId": "c122462b-1361-495f-f6dc-600b8d67c63c"
      },
      "execution_count": null,
      "outputs": [
        {
          "output_type": "execute_result",
          "data": {
            "text/plain": [
              "                        id  acousticness  danceability  energy  \\\n",
              "0   75FEaRjZTKLhTrFGsfMUXR       0.72000         0.629   0.547   \n",
              "1   4Dvkj6JhhA12EX05fT7y2e       0.34200         0.520   0.731   \n",
              "2   1PckUlxKqWQs3RlWXVBLw3       0.09950         0.836   0.743   \n",
              "3   3jHEdCPk8q4bcf5hHMMFmh       0.03390         0.649   0.681   \n",
              "4   5003Vk5PBvDLAgXXHA0mAC       0.13300         0.642   0.610   \n",
              "..                     ...           ...           ...     ...   \n",
              "95  2nY45mMiduiwl88NxWj3xF       0.05510         0.532   0.417   \n",
              "96  5PF6tRnQJWyAlZTCgDa4wQ       0.13800         0.693   0.643   \n",
              "97  06LPhxTcRbh2vJb8vMUkwE       0.00375         0.752   0.701   \n",
              "98  6gI9b2VsoWhjhIuIeToDVs       0.31900         0.775   0.736   \n",
              "99  5lYAexg45DfNm7LfJNYMva       0.16900         0.784   0.723   \n",
              "\n",
              "    instrumentalness  key  liveness  loudness    tempo  mode  speechiness  \\\n",
              "0           0.003140   10    0.0604   -13.123  108.375     0       0.0550   \n",
              "1           0.001010    6    0.3110    -5.338  173.930     0       0.0557   \n",
              "2           0.000000   10    0.3350    -6.305  108.966     0       0.0656   \n",
              "3           0.000007    0    0.2950    -7.384  110.006     1       0.0360   \n",
              "4           0.000000    0    0.0873   -10.903  129.996     1       0.0494   \n",
              "..               ...  ...       ...       ...      ...   ...          ...   \n",
              "95          0.000000    1    0.1140   -10.402   82.498     0       0.4010   \n",
              "96          0.000000    4    0.1080    -5.867   95.055     0       0.0828   \n",
              "97          0.000000   11    0.0398    -4.977  109.036     0       0.0414   \n",
              "98          0.001160    1    0.1270    -8.072  100.988     0       0.2470   \n",
              "99          0.000000    8    0.2000    -4.607  107.086     1       0.1840   \n",
              "\n",
              "    valence  \n",
              "0     0.197  \n",
              "1     0.662  \n",
              "2     0.722  \n",
              "3     0.554  \n",
              "4     0.616  \n",
              "..      ...  \n",
              "95    0.348  \n",
              "96    0.477  \n",
              "97    0.536  \n",
              "98    0.362  \n",
              "99    0.753  \n",
              "\n",
              "[100 rows x 12 columns]"
            ],
            "text/html": [
              "\n",
              "  <div id=\"df-0e01a829-f250-47f2-9a1e-6e744cf98b05\">\n",
              "    <div class=\"colab-df-container\">\n",
              "      <div>\n",
              "<style scoped>\n",
              "    .dataframe tbody tr th:only-of-type {\n",
              "        vertical-align: middle;\n",
              "    }\n",
              "\n",
              "    .dataframe tbody tr th {\n",
              "        vertical-align: top;\n",
              "    }\n",
              "\n",
              "    .dataframe thead th {\n",
              "        text-align: right;\n",
              "    }\n",
              "</style>\n",
              "<table border=\"1\" class=\"dataframe\">\n",
              "  <thead>\n",
              "    <tr style=\"text-align: right;\">\n",
              "      <th></th>\n",
              "      <th>id</th>\n",
              "      <th>acousticness</th>\n",
              "      <th>danceability</th>\n",
              "      <th>energy</th>\n",
              "      <th>instrumentalness</th>\n",
              "      <th>key</th>\n",
              "      <th>liveness</th>\n",
              "      <th>loudness</th>\n",
              "      <th>tempo</th>\n",
              "      <th>mode</th>\n",
              "      <th>speechiness</th>\n",
              "      <th>valence</th>\n",
              "    </tr>\n",
              "  </thead>\n",
              "  <tbody>\n",
              "    <tr>\n",
              "      <th>0</th>\n",
              "      <td>75FEaRjZTKLhTrFGsfMUXR</td>\n",
              "      <td>0.72000</td>\n",
              "      <td>0.629</td>\n",
              "      <td>0.547</td>\n",
              "      <td>0.003140</td>\n",
              "      <td>10</td>\n",
              "      <td>0.0604</td>\n",
              "      <td>-13.123</td>\n",
              "      <td>108.375</td>\n",
              "      <td>0</td>\n",
              "      <td>0.0550</td>\n",
              "      <td>0.197</td>\n",
              "    </tr>\n",
              "    <tr>\n",
              "      <th>1</th>\n",
              "      <td>4Dvkj6JhhA12EX05fT7y2e</td>\n",
              "      <td>0.34200</td>\n",
              "      <td>0.520</td>\n",
              "      <td>0.731</td>\n",
              "      <td>0.001010</td>\n",
              "      <td>6</td>\n",
              "      <td>0.3110</td>\n",
              "      <td>-5.338</td>\n",
              "      <td>173.930</td>\n",
              "      <td>0</td>\n",
              "      <td>0.0557</td>\n",
              "      <td>0.662</td>\n",
              "    </tr>\n",
              "    <tr>\n",
              "      <th>2</th>\n",
              "      <td>1PckUlxKqWQs3RlWXVBLw3</td>\n",
              "      <td>0.09950</td>\n",
              "      <td>0.836</td>\n",
              "      <td>0.743</td>\n",
              "      <td>0.000000</td>\n",
              "      <td>10</td>\n",
              "      <td>0.3350</td>\n",
              "      <td>-6.305</td>\n",
              "      <td>108.966</td>\n",
              "      <td>0</td>\n",
              "      <td>0.0656</td>\n",
              "      <td>0.722</td>\n",
              "    </tr>\n",
              "    <tr>\n",
              "      <th>3</th>\n",
              "      <td>3jHEdCPk8q4bcf5hHMMFmh</td>\n",
              "      <td>0.03390</td>\n",
              "      <td>0.649</td>\n",
              "      <td>0.681</td>\n",
              "      <td>0.000007</td>\n",
              "      <td>0</td>\n",
              "      <td>0.2950</td>\n",
              "      <td>-7.384</td>\n",
              "      <td>110.006</td>\n",
              "      <td>1</td>\n",
              "      <td>0.0360</td>\n",
              "      <td>0.554</td>\n",
              "    </tr>\n",
              "    <tr>\n",
              "      <th>4</th>\n",
              "      <td>5003Vk5PBvDLAgXXHA0mAC</td>\n",
              "      <td>0.13300</td>\n",
              "      <td>0.642</td>\n",
              "      <td>0.610</td>\n",
              "      <td>0.000000</td>\n",
              "      <td>0</td>\n",
              "      <td>0.0873</td>\n",
              "      <td>-10.903</td>\n",
              "      <td>129.996</td>\n",
              "      <td>1</td>\n",
              "      <td>0.0494</td>\n",
              "      <td>0.616</td>\n",
              "    </tr>\n",
              "    <tr>\n",
              "      <th>...</th>\n",
              "      <td>...</td>\n",
              "      <td>...</td>\n",
              "      <td>...</td>\n",
              "      <td>...</td>\n",
              "      <td>...</td>\n",
              "      <td>...</td>\n",
              "      <td>...</td>\n",
              "      <td>...</td>\n",
              "      <td>...</td>\n",
              "      <td>...</td>\n",
              "      <td>...</td>\n",
              "      <td>...</td>\n",
              "    </tr>\n",
              "    <tr>\n",
              "      <th>95</th>\n",
              "      <td>2nY45mMiduiwl88NxWj3xF</td>\n",
              "      <td>0.05510</td>\n",
              "      <td>0.532</td>\n",
              "      <td>0.417</td>\n",
              "      <td>0.000000</td>\n",
              "      <td>1</td>\n",
              "      <td>0.1140</td>\n",
              "      <td>-10.402</td>\n",
              "      <td>82.498</td>\n",
              "      <td>0</td>\n",
              "      <td>0.4010</td>\n",
              "      <td>0.348</td>\n",
              "    </tr>\n",
              "    <tr>\n",
              "      <th>96</th>\n",
              "      <td>5PF6tRnQJWyAlZTCgDa4wQ</td>\n",
              "      <td>0.13800</td>\n",
              "      <td>0.693</td>\n",
              "      <td>0.643</td>\n",
              "      <td>0.000000</td>\n",
              "      <td>4</td>\n",
              "      <td>0.1080</td>\n",
              "      <td>-5.867</td>\n",
              "      <td>95.055</td>\n",
              "      <td>0</td>\n",
              "      <td>0.0828</td>\n",
              "      <td>0.477</td>\n",
              "    </tr>\n",
              "    <tr>\n",
              "      <th>97</th>\n",
              "      <td>06LPhxTcRbh2vJb8vMUkwE</td>\n",
              "      <td>0.00375</td>\n",
              "      <td>0.752</td>\n",
              "      <td>0.701</td>\n",
              "      <td>0.000000</td>\n",
              "      <td>11</td>\n",
              "      <td>0.0398</td>\n",
              "      <td>-4.977</td>\n",
              "      <td>109.036</td>\n",
              "      <td>0</td>\n",
              "      <td>0.0414</td>\n",
              "      <td>0.536</td>\n",
              "    </tr>\n",
              "    <tr>\n",
              "      <th>98</th>\n",
              "      <td>6gI9b2VsoWhjhIuIeToDVs</td>\n",
              "      <td>0.31900</td>\n",
              "      <td>0.775</td>\n",
              "      <td>0.736</td>\n",
              "      <td>0.001160</td>\n",
              "      <td>1</td>\n",
              "      <td>0.1270</td>\n",
              "      <td>-8.072</td>\n",
              "      <td>100.988</td>\n",
              "      <td>0</td>\n",
              "      <td>0.2470</td>\n",
              "      <td>0.362</td>\n",
              "    </tr>\n",
              "    <tr>\n",
              "      <th>99</th>\n",
              "      <td>5lYAexg45DfNm7LfJNYMva</td>\n",
              "      <td>0.16900</td>\n",
              "      <td>0.784</td>\n",
              "      <td>0.723</td>\n",
              "      <td>0.000000</td>\n",
              "      <td>8</td>\n",
              "      <td>0.2000</td>\n",
              "      <td>-4.607</td>\n",
              "      <td>107.086</td>\n",
              "      <td>1</td>\n",
              "      <td>0.1840</td>\n",
              "      <td>0.753</td>\n",
              "    </tr>\n",
              "  </tbody>\n",
              "</table>\n",
              "<p>100 rows × 12 columns</p>\n",
              "</div>\n",
              "      <button class=\"colab-df-convert\" onclick=\"convertToInteractive('df-0e01a829-f250-47f2-9a1e-6e744cf98b05')\"\n",
              "              title=\"Convert this dataframe to an interactive table.\"\n",
              "              style=\"display:none;\">\n",
              "        \n",
              "  <svg xmlns=\"http://www.w3.org/2000/svg\" height=\"24px\"viewBox=\"0 0 24 24\"\n",
              "       width=\"24px\">\n",
              "    <path d=\"M0 0h24v24H0V0z\" fill=\"none\"/>\n",
              "    <path d=\"M18.56 5.44l.94 2.06.94-2.06 2.06-.94-2.06-.94-.94-2.06-.94 2.06-2.06.94zm-11 1L8.5 8.5l.94-2.06 2.06-.94-2.06-.94L8.5 2.5l-.94 2.06-2.06.94zm10 10l.94 2.06.94-2.06 2.06-.94-2.06-.94-.94-2.06-.94 2.06-2.06.94z\"/><path d=\"M17.41 7.96l-1.37-1.37c-.4-.4-.92-.59-1.43-.59-.52 0-1.04.2-1.43.59L10.3 9.45l-7.72 7.72c-.78.78-.78 2.05 0 2.83L4 21.41c.39.39.9.59 1.41.59.51 0 1.02-.2 1.41-.59l7.78-7.78 2.81-2.81c.8-.78.8-2.07 0-2.86zM5.41 20L4 18.59l7.72-7.72 1.47 1.35L5.41 20z\"/>\n",
              "  </svg>\n",
              "      </button>\n",
              "      \n",
              "  <style>\n",
              "    .colab-df-container {\n",
              "      display:flex;\n",
              "      flex-wrap:wrap;\n",
              "      gap: 12px;\n",
              "    }\n",
              "\n",
              "    .colab-df-convert {\n",
              "      background-color: #E8F0FE;\n",
              "      border: none;\n",
              "      border-radius: 50%;\n",
              "      cursor: pointer;\n",
              "      display: none;\n",
              "      fill: #1967D2;\n",
              "      height: 32px;\n",
              "      padding: 0 0 0 0;\n",
              "      width: 32px;\n",
              "    }\n",
              "\n",
              "    .colab-df-convert:hover {\n",
              "      background-color: #E2EBFA;\n",
              "      box-shadow: 0px 1px 2px rgba(60, 64, 67, 0.3), 0px 1px 3px 1px rgba(60, 64, 67, 0.15);\n",
              "      fill: #174EA6;\n",
              "    }\n",
              "\n",
              "    [theme=dark] .colab-df-convert {\n",
              "      background-color: #3B4455;\n",
              "      fill: #D2E3FC;\n",
              "    }\n",
              "\n",
              "    [theme=dark] .colab-df-convert:hover {\n",
              "      background-color: #434B5C;\n",
              "      box-shadow: 0px 1px 3px 1px rgba(0, 0, 0, 0.15);\n",
              "      filter: drop-shadow(0px 1px 2px rgba(0, 0, 0, 0.3));\n",
              "      fill: #FFFFFF;\n",
              "    }\n",
              "  </style>\n",
              "\n",
              "      <script>\n",
              "        const buttonEl =\n",
              "          document.querySelector('#df-0e01a829-f250-47f2-9a1e-6e744cf98b05 button.colab-df-convert');\n",
              "        buttonEl.style.display =\n",
              "          google.colab.kernel.accessAllowed ? 'block' : 'none';\n",
              "\n",
              "        async function convertToInteractive(key) {\n",
              "          const element = document.querySelector('#df-0e01a829-f250-47f2-9a1e-6e744cf98b05');\n",
              "          const dataTable =\n",
              "            await google.colab.kernel.invokeFunction('convertToInteractive',\n",
              "                                                     [key], {});\n",
              "          if (!dataTable) return;\n",
              "\n",
              "          const docLinkHtml = 'Like what you see? Visit the ' +\n",
              "            '<a target=\"_blank\" href=https://colab.research.google.com/notebooks/data_table.ipynb>data table notebook</a>'\n",
              "            + ' to learn more about interactive tables.';\n",
              "          element.innerHTML = '';\n",
              "          dataTable['output_type'] = 'display_data';\n",
              "          await google.colab.output.renderOutput(dataTable, element);\n",
              "          const docLink = document.createElement('div');\n",
              "          docLink.innerHTML = docLinkHtml;\n",
              "          element.appendChild(docLink);\n",
              "        }\n",
              "      </script>\n",
              "    </div>\n",
              "  </div>\n",
              "  "
            ]
          },
          "metadata": {},
          "execution_count": 124
        }
      ]
    },
    {
      "cell_type": "markdown",
      "source": [
        "## Audio Features for 100+ Track IDs"
      ],
      "metadata": {
        "id": "WorbjH_NZn7C"
      }
    }
  ]
}